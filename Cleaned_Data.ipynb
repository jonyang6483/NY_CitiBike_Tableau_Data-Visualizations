{
 "cells": [
  {
   "cell_type": "code",
   "execution_count": 14,
   "id": "03f5e989",
   "metadata": {},
   "outputs": [],
   "source": [
    "import pandas as pd"
   ]
  },
  {
   "cell_type": "code",
   "execution_count": 15,
   "id": "fbb862cd",
   "metadata": {},
   "outputs": [
    {
     "name": "stderr",
     "output_type": "stream",
     "text": [
      "/var/folders/6s/b46yfd717r3g4w_p79w4m9lh0000gn/T/ipykernel_63887/486227414.py:15: DtypeWarning: Columns (5,7) have mixed types. Specify dtype option on import or set low_memory=False.\n",
      "  data_dec_24 = pd.read_csv(\"Resources/202412-citibike-tripdata_1.csv\", header=0, parse_dates=[2, 3])\n",
      "/var/folders/6s/b46yfd717r3g4w_p79w4m9lh0000gn/T/ipykernel_63887/486227414.py:16: DtypeWarning: Columns (5,7) have mixed types. Specify dtype option on import or set low_memory=False.\n",
      "  data_jan_25 = pd.read_csv(\"Resources/202501-citibike-tripdata_1.csv\", header=0, parse_dates=[2, 3])\n",
      "/var/folders/6s/b46yfd717r3g4w_p79w4m9lh0000gn/T/ipykernel_63887/486227414.py:17: DtypeWarning: Columns (5,7) have mixed types. Specify dtype option on import or set low_memory=False.\n",
      "  data_feb_25 = pd.read_csv(\"Resources/202502-citibike-tripdata_1.csv\", header=0, parse_dates=[2, 3])\n"
     ]
    },
    {
     "name": "stdout",
     "output_type": "stream",
     "text": [
      "(1000000, 13)\n",
      "(1000000, 13)\n",
      "(1000000, 13)\n"
     ]
    }
   ],
   "source": [
    "dtypes = {\"ride_id\": str,\n",
    "          \"rideable_type\": str,\n",
    "          \"started_at\": pd.Timestamp,\n",
    "          \"ended_at\": pd.Timestamp,\n",
    "          \"start_station_name\": \"str\",\n",
    "          \"start_station_id\": \"str\",\n",
    "          \"end_station_name\": \"str\",\n",
    "          \"end_station_id\": \"str\",\n",
    "          \"start_lat\": float,\n",
    "          \"start_lng\": float,\n",
    "          \"end_lat\": float,\n",
    "          \"end_lng\": float,\n",
    "          \"member_casual\": \"str\"}\n",
    "\n",
    "data_dec_24 = pd.read_csv(\"Resources/202412-citibike-tripdata_1.csv\", header=0, parse_dates=[2, 3])\n",
    "data_jan_25 = pd.read_csv(\"Resources/202501-citibike-tripdata_1.csv\", header=0, parse_dates=[2, 3])\n",
    "data_feb_25 = pd.read_csv(\"Resources/202502-citibike-tripdata_1.csv\", header=0, parse_dates=[2, 3])\n",
    "\n",
    "print(data_dec_24.shape)\n",
    "print(data_jan_25.shape)\n",
    "print(data_feb_25.shape)\n"
   ]
  },
  {
   "cell_type": "code",
   "execution_count": 16,
   "id": "87c161b8",
   "metadata": {},
   "outputs": [
    {
     "name": "stdout",
     "output_type": "stream",
     "text": [
      "<class 'pandas.core.frame.DataFrame'>\n",
      "RangeIndex: 1000000 entries, 0 to 999999\n",
      "Data columns (total 13 columns):\n",
      " #   Column              Non-Null Count    Dtype         \n",
      "---  ------              --------------    -----         \n",
      " 0   ride_id             1000000 non-null  object        \n",
      " 1   rideable_type       1000000 non-null  object        \n",
      " 2   started_at          1000000 non-null  datetime64[ns]\n",
      " 3   ended_at            1000000 non-null  datetime64[ns]\n",
      " 4   start_station_name  999375 non-null   object        \n",
      " 5   start_station_id    999375 non-null   object        \n",
      " 6   end_station_name    996417 non-null   object        \n",
      " 7   end_station_id      995525 non-null   object        \n",
      " 8   start_lat           1000000 non-null  float64       \n",
      " 9   start_lng           1000000 non-null  float64       \n",
      " 10  end_lat             999795 non-null   float64       \n",
      " 11  end_lng             999795 non-null   float64       \n",
      " 12  member_casual       1000000 non-null  object        \n",
      "dtypes: datetime64[ns](2), float64(4), object(7)\n",
      "memory usage: 99.2+ MB\n"
     ]
    }
   ],
   "source": [
    "data_dec_24.info()"
   ]
  },
  {
   "cell_type": "code",
   "execution_count": 17,
   "id": "a3db8c1a",
   "metadata": {},
   "outputs": [
    {
     "name": "stdout",
     "output_type": "stream",
     "text": [
      "rideable_type\n",
      "electric_bike    693690\n",
      "classic_bike     306310\n",
      "Name: count, dtype: int64\n",
      "member_casual\n",
      "member    885113\n",
      "casual    114887\n",
      "Name: count, dtype: int64\n"
     ]
    }
   ],
   "source": [
    "print(data_dec_24[\"rideable_type\"].value_counts())\n",
    "print(data_dec_24[\"member_casual\"].value_counts())"
   ]
  },
  {
   "cell_type": "code",
   "execution_count": 18,
   "id": "366172e3",
   "metadata": {},
   "outputs": [
    {
     "name": "stdout",
     "output_type": "stream",
     "text": [
      "(2989992, 12)\n",
      "<class 'pandas.core.frame.DataFrame'>\n",
      "Index: 2989992 entries, 0 to 999999\n",
      "Data columns (total 12 columns):\n",
      " #   Column              Dtype         \n",
      "---  ------              -----         \n",
      " 0   rideable_type       object        \n",
      " 1   started_at          datetime64[ns]\n",
      " 2   ended_at            datetime64[ns]\n",
      " 3   start_station_name  object        \n",
      " 4   start_station_id    object        \n",
      " 5   end_station_name    object        \n",
      " 6   end_station_id      object        \n",
      " 7   start_lat           float64       \n",
      " 8   start_lng           float64       \n",
      " 9   end_lat             float64       \n",
      " 10  end_lng             float64       \n",
      " 11  member_casual       bool          \n",
      "dtypes: bool(1), datetime64[ns](2), float64(4), object(5)\n",
      "memory usage: 276.6+ MB\n"
     ]
    }
   ],
   "source": [
    "map_rideable_type = {\"classic_bike\": \"C\",\n",
    "                     \"electric_bike\": \"E\",}\n",
    "map_member_casual = {\"member\": True,\n",
    "                     \"casual\": False}\n",
    "\n",
    "df_winter = pd.concat([data_dec_24, data_jan_25, data_feb_25])\n",
    "df_winter.drop(\"ride_id\", axis=1, inplace=True)\n",
    "df_winter.dropna(axis=0, inplace=True)\n",
    "\n",
    "# Map strings to shorter values\n",
    "df_winter[\"rideable_type\"] = df_winter[\"rideable_type\"].map(map_rideable_type)\n",
    "df_winter[\"member_casual\"] = df_winter[\"member_casual\"].map(map_member_casual)\n",
    "\n",
    "print(df_winter.shape)\n",
    "\n",
    "df_winter.info()\n"
   ]
  },
  {
   "cell_type": "code",
   "execution_count": 19,
   "id": "6fafa1b4",
   "metadata": {},
   "outputs": [],
   "source": [
    "df_winter.to_csv(\"Resources/citibike_winter_24_25.csv\", index=False, header=True)"
   ]
  },
  {
   "cell_type": "code",
   "execution_count": null,
   "id": "33a9eddd",
   "metadata": {},
   "outputs": [],
   "source": []
  }
 ],
 "metadata": {
  "kernelspec": {
   "display_name": "Python 3 (ipykernel)",
   "language": "python",
   "name": "python3"
  },
  "language_info": {
   "codemirror_mode": {
    "name": "ipython",
    "version": 3
   },
   "file_extension": ".py",
   "mimetype": "text/x-python",
   "name": "python",
   "nbconvert_exporter": "python",
   "pygments_lexer": "ipython3",
   "version": "3.10.13"
  }
 },
 "nbformat": 4,
 "nbformat_minor": 5
}
